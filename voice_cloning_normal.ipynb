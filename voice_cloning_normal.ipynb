{
  "cells": [
    {
      "cell_type": "markdown",
      "metadata": {},
      "source": [
        "# 🎙️ Persian Voice Cloning - Normal Quality\n",
        "این نوت‌بوک نسخه نرمال سیستم شبیه‌سازی صدا با پشتیبانی از زبان فارسی است.\n",
        "- خروجی: MP3 استریو، 44.1kHz\n",
        "- نویزگیری و کنترل ولوم فعال\n",
        "- فایل نهایی با تگ‌های ID3 ذخیره می‌شود."
      ]
    },
    {
      "cell_type": "code",
      "metadata": {},
      "source": [
        "# نصب پیش‌نیازها\n",
        "!pip install torchaudio librosa pydub ffmpeg-python soundfile gtts"
      ],
      "outputs": [],
      "execution_count": null
    },
    {
      "cell_type": "code",
      "metadata": {},
      "source": [
        "# 📁 آپلود فایل صوتی ورودی یا ضبط صدا\n",
        "from google.colab import files\n",
        "import soundfile as sf\n",
        "import IPython.display as ipd\n",
        "uploaded = files.upload()\n",
        "for fn in uploaded:\n",
        "    data, sr = sf.read(fn)\n",
        "    ipd.display(ipd.Audio(data, rate=sr))"
      ],
      "outputs": [],
      "execution_count": null
    },
    {
      "cell_type": "code",
      "metadata": {},
      "source": [
        "# 🎛️ نویزگیری، تنظیم ولوم و ذخیره خروجی MP3 استریو\n",
        "from pydub import AudioSegment, effects\n",
        "# لود و اطمینان از استریو بودن\n",
        "audio = AudioSegment.from_file(list(uploaded.keys())[0]).set_channels(2)\n",
        "# نویزگیری ساده\n",
        "audio = effects.normalize(audio)\n",
        "# ذخیره MP3 با 44.1kHz\n",
        "output_path = '/content/output_normal.mp3'\n",
        "audio.export(output_path, format='mp3', parameters=['-ar', '44100'])\n",
        "print('✅ فایل خروجی ذخیره شد:', output_path)\n",
        "ipd.display(ipd.Audio(output_path))"
      ],
      "outputs": [],
      "execution_count": null
    }
  ],
  "metadata": {
    "kernelspec": {
      "display_name": "Python 3",
      "language": "python",
      "name": "python3"
    },
    "language_info": {
      "name": "python",
      "version": "3.x"
    }
  },
  "nbformat": 4,
  "nbformat_minor": 2
}